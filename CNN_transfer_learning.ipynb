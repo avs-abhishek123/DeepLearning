{
  "nbformat": 4,
  "nbformat_minor": 0,
  "metadata": {
    "colab": {
      "name": "CNN_transfer_learning.ipynb",
      "provenance": [],
      "collapsed_sections": []
    },
    "kernelspec": {
      "name": "python3",
      "display_name": "Python 3"
    },
    "language_info": {
      "name": "python"
    },
    "accelerator": "GPU"
  },
  "cells": [
    {
      "cell_type": "markdown",
      "metadata": {
        "id": "r2R-LV4lDgUh"
      },
      "source": [
        "#Convolution Neural Network using Transfer Learning"
      ]
    },
    {
      "cell_type": "markdown",
      "metadata": {
        "id": "sOhgQPY-DfYI"
      },
      "source": [
        "by Name ALLENA VENKATA SAI ABHISHEK(122021601009)"
      ]
    },
    {
      "cell_type": "markdown",
      "metadata": {
        "id": "edEuutdeDz0z"
      },
      "source": [
        "#Import block"
      ]
    },
    {
      "cell_type": "markdown",
      "metadata": {
        "id": "Qaj6gbQXD-iB"
      },
      "source": [
        "here we are importting variouslibraries and packages required\n",
        "**tensorflow** for basic functions of model training and performance measure calculation **keras** for model building\n",
        "we are also importing **sequential model api** from keras as we will build the model layer by layer as it is straight forward with one input and one output for each layer\n",
        "**matplotlib.pyplot** for visualising the dataset as it is comprised of images\n",
        "**numpy** for array operations\n"
      ]
    },
    {
      "cell_type": "code",
      "metadata": {
        "id": "bzKpaI7rDdLC"
      },
      "source": [
        "import tensorflow as tf\n",
        "from tensorflow import keras\n",
        "from tensorflow.keras import layers\n",
        "from tensorflow.keras.models import Sequential \n",
        "from matplotlib import pyplot\n",
        "import numpy as np\n",
        "\n",
        "physical_devices = tf.config.list_physical_devices(\"GPU\") \n",
        "tf.config.experimental.set_memory_growth(physical_devices[0], True)\n"
      ],
      "execution_count": 51,
      "outputs": []
    },
    {
      "cell_type": "markdown",
      "metadata": {
        "id": "ayZHXt8XEYVI"
      },
      "source": [
        "#Dataset load"
      ]
    },
    {
      "cell_type": "markdown",
      "metadata": {
        "id": "ofu1rHRtFUqr"
      },
      "source": [
        "Here we are using CIFAR-10 dataset\n",
        "The **CIFAR-10** dataset consists of 60000 32x32 colour images in 10 classes, with 6000 images per class. There are 50000 training images and 10000 test images.\n",
        "we are using keras.datasets module to direct load the dataset from the api to our local variables The shape of a single record is 32px(H) X 32px(W) with 3 channels(RGB) this is a multidimensional array\n"
      ]
    },
    {
      "cell_type": "code",
      "metadata": {
        "colab": {
          "base_uri": "https://localhost:8080/"
        },
        "id": "D5dTFPBbFVlG",
        "outputId": "3b721c21-89b9-4933-a090-b35d1b99fa98"
      },
      "source": [
        "(x_train, y_train), (x_test, y_test) = keras.datasets.cifar10.load_data() \n",
        "print(\"training set:\",x_train.shape,\"\\ntest set:\",x_test.shape)\n"
      ],
      "execution_count": 52,
      "outputs": [
        {
          "output_type": "stream",
          "text": [
            "training set: (50000, 32, 32, 3) \n",
            "test set: (10000, 32, 32, 3)\n"
          ],
          "name": "stdout"
        }
      ]
    },
    {
      "cell_type": "markdown",
      "metadata": {
        "id": "63-L_J6LLb87"
      },
      "source": [
        "Categorical conversion\n",
        "The dataset is divided into five training batches and one test batch, each with 10000 images.\n",
        "There are 10 classes in the data set and the we are changing the class valriable into a categorical\n",
        "variable using keras builtin function for the model to train easier."
      ]
    },
    {
      "cell_type": "code",
      "metadata": {
        "colab": {
          "base_uri": "https://localhost:8080/"
        },
        "id": "ONgCQ-VyLcha",
        "outputId": "79a1cdc1-1ab0-4cc5-fd0d-47de92f14b9b"
      },
      "source": [
        "y_train = keras.utils.to_categorical(y_train)\n",
        "y_test = keras.utils.to_categorical(y_test)\n",
        "y_train[0]"
      ],
      "execution_count": 53,
      "outputs": [
        {
          "output_type": "execute_result",
          "data": {
            "text/plain": [
              "array([0., 0., 0., 0., 0., 0., 1., 0., 0., 0.], dtype=float32)"
            ]
          },
          "metadata": {
            "tags": []
          },
          "execution_count": 53
        }
      ]
    },
    {
      "cell_type": "markdown",
      "metadata": {
        "id": "-ipnDjIcLo6h"
      },
      "source": [
        "Creating the label variable with the names of the class for the the images present in the dataset. There are 10 distinct classes.\n",
        "\n"
      ]
    },
    {
      "cell_type": "code",
      "metadata": {
        "id": "q0dKWoNkLq8g"
      },
      "source": [
        "labels = ['airplane','automobile','bird','cat','deer','dog','frog','horse','ship', 'truck']\n"
      ],
      "execution_count": 54,
      "outputs": []
    },
    {
      "cell_type": "markdown",
      "metadata": {
        "id": "QH8DL2-XMATt"
      },
      "source": [
        "#Initial ploting of the dataset"
      ]
    },
    {
      "cell_type": "markdown",
      "metadata": {
        "id": "fK_2b2ZDMD-3"
      },
      "source": [
        "we are using the imshow function in the matplotlib.pyplot module to print the images from the\n",
        "dataset to get a basic idea how the images are present"
      ]
    },
    {
      "cell_type": "code",
      "metadata": {
        "colab": {
          "base_uri": "https://localhost:8080/",
          "height": 591
        },
        "id": "SNFrm-yvMEpr",
        "outputId": "35b257f6-463b-43ed-f12c-6e342bfb1f7a"
      },
      "source": [
        "pyplot.figure(figsize=(10, 10))\n",
        "for i in range(9):\n",
        "\n",
        "  ax = pyplot.subplot(3, 3, i + 1)\n",
        "\n",
        "  pyplot.imshow(tf.squeeze(x_train[i]))\n",
        "\n",
        "  pyplot.title(labels[np.where(y_train[i]==1)[0][0]])\n",
        "\n",
        "  pyplot.axis(\"off\")"
      ],
      "execution_count": 55,
      "outputs": [
        {
          "output_type": "display_data",
          "data": {
            "image/png": "[encoded data removed]",
            "text/plain": [
              "<Figure size 720x720 with 9 Axes>"
            ]
          },
          "metadata": {
            "tags": [],
            "needs_background": "light"
          }
        }
      ]
    },
    {
      "cell_type": "markdown",
      "metadata": {
        "id": "NzcOjrNqMbll"
      },
      "source": [
        "#Reshaping the train & test data\n",
        "The Convolution2D layers in Keras however, are designed to work with 3 dimensions per example.\n",
        "They have 4-dimensional inputs and outputs. This covers colour images (n_samples, width, height,\n",
        "n_channels), but more importantly, it covers deeper layers of the network, where each example has\n",
        "become a set of feature maps i.e. (n_samples, width, height, n_channels). we are making sure all\n",
        "the data is in uniform share as it is a good practice to make sure we check and reshape the data\n",
        "before making any changes to it"
      ]
    },
    {
      "cell_type": "code",
      "metadata": {
        "id": "CfdMa3hrMdwF"
      },
      "source": [
        "x_train = np.array(x_train).reshape(x_train.shape[0], 32, 32, 3)\n",
        "x_test = np.array(x_test).reshape(x_test.shape[0], 32, 32, 3)"
      ],
      "execution_count": 56,
      "outputs": []
    },
    {
      "cell_type": "markdown",
      "metadata": {
        "id": "KD3yJL5OMlQt"
      },
      "source": [
        "#Normalization\n",
        "Here we are using 0-1 normalization\n",
        "Neural networks process inputs using small weight values, and inputs with large integer values can\n",
        "disrupt or slow down the learning process. As such it is good practice to normalize the pixel values\n",
        "so that each pixel value has a value between 0 and 1.\n",
        "It is valid for images to have pixel values in the range 0-1 and images can be viewed normally.\n",
        "This can be achieved by dividing all pixels values by the largest pixel value; that is 255. This is\n",
        "performed across all channels, regardless of the actual range of pixel values that are present in the\n",
        "image."
      ]
    },
    {
      "cell_type": "code",
      "metadata": {
        "colab": {
          "base_uri": "https://localhost:8080/"
        },
        "id": "VNWV4Ju3Mm2K",
        "outputId": "27bafceb-6a03-4183-a6e3-18fe8eaa1651"
      },
      "source": [
        "x_train = x_train.astype('float32')/255.0\n",
        "x_test = x_test.astype('float32')/255.0\n",
        "x_train.shape"
      ],
      "execution_count": 57,
      "outputs": [
        {
          "output_type": "execute_result",
          "data": {
            "text/plain": [
              "(50000, 32, 32, 3)"
            ]
          },
          "metadata": {
            "tags": []
          },
          "execution_count": 57
        }
      ]
    },
    {
      "cell_type": "markdown",
      "metadata": {
        "id": "9-mPoDBeM9WG"
      },
      "source": [
        "#Plot after performing normalization\n",
        "We can see there is no significant change in the image when plotted but the weights of the each\n",
        "pixel is drastically reduced making it very light weight to perform calculations."
      ]
    },
    {
      "cell_type": "code",
      "metadata": {
        "colab": {
          "base_uri": "https://localhost:8080/",
          "height": 281
        },
        "id": "784XeGOoNBXQ",
        "outputId": "a32ba6f0-6846-4bde-851e-ad094f13ed26"
      },
      "source": [
        "pyplot.imshow( tf.squeeze(x_train[1]) )\n",
        "pyplot.title(labels[np.where(y_train[1]==1)[0][0]])\n",
        "pyplot.show()"
      ],
      "execution_count": 58,
      "outputs": [
        {
          "output_type": "display_data",
          "data": {
            "image/png": "[encoded data removed]",
            "text/plain": [
              "<Figure size 432x288 with 1 Axes>"
            ]
          },
          "metadata": {
            "tags": [],
            "needs_background": "light"
          }
        }
      ]
    },
    {
      "cell_type": "markdown",
      "metadata": {
        "id": "QWnkLHRXNNCP"
      },
      "source": [
        "#Transfer Learning\n",
        "Transfer learning is a machine learning method where a model developed for a task is reused as the\n",
        "starting point for a model on a second task.\n",
        "It is a popular approach in deep learning where pre-trained models are used as the starting point on\n",
        "computer vision and natural language processing tasks given the vast compute and time resources\n",
        "required to develop neural network models on these problems and from the huge jumps in skill that\n",
        "they provide on related problems."
      ]
    },
    {
      "cell_type": "markdown",
      "metadata": {
        "id": "uJcPB8hHNUDY"
      },
      "source": [
        "#Resnets0\n",
        "Here we are using resnet50 as the base model and using it with previous knowlegde gained from\n",
        "the training of Imagenet"
      ]
    },
    {
      "cell_type": "markdown",
      "metadata": {
        "id": "FG_ByebtNYXJ"
      },
      "source": [
        "ResNet-50 is a convolutional neural network that is 50 layers deep. It is pretrained on more than a\n",
        "million images from the ImageNet database . The pretrained network can classify images into 1000\n",
        "object categories, such as keyboard, mouse, pencil, and many animals.\n",
        "So it is a valid choice for using on CIFAR-10 dataset.\n",
        "an important point to remember is:->\n",
        "input_shape: optional shape tuple, only to be specified if include_top is False (otherwise the input\n",
        "shape has to be (224, 224, 3) (with 'channels_last' data format) or (3, 224, 224) (with 'channels_first'\n",
        "data format). It should have exactly 3 inputs channels, and width and height should be no smaller\n",
        "than 32. E.g. (200, 200, 3) would be one valid value.\n",
        "\n",
        "\n",
        "**The 50 layers of the resnet50 are printed below.**"
      ]
    },
    {
      "cell_type": "code",
      "metadata": {
        "colab": {
          "base_uri": "https://localhost:8080/"
        },
        "id": "l-WvtT06OhCj",
        "outputId": "c83b9863-4639-468b-f091-ea5f5c7463cd"
      },
      "source": [
        "resnet = tf.keras.applications.ResNet50(include_top=False, weights='imagenet' )\n",
        "print()\n",
        "for layer in resnet.layers:\n",
        "  print(layer.name)"
      ],
      "execution_count": 59,
      "outputs": [
        {
          "output_type": "stream",
          "text": [
            "\n",
            "input_4\n",
            "conv1_pad\n",
            "conv1_conv\n",
            "conv1_bn\n",
            "conv1_relu\n",
            "pool1_pad\n",
            "pool1_pool\n",
            "conv2_block1_1_conv\n",
            "conv2_block1_1_bn\n",
            "conv2_block1_1_relu\n",
            "conv2_block1_2_conv\n",
            "conv2_block1_2_bn\n",
            "conv2_block1_2_relu\n",
            "conv2_block1_0_conv\n",
            "conv2_block1_3_conv\n",
            "conv2_block1_0_bn\n",
            "conv2_block1_3_bn\n",
            "conv2_block1_add\n",
            "conv2_block1_out\n",
            "conv2_block2_1_conv\n",
            "conv2_block2_1_bn\n",
            "conv2_block2_1_relu\n",
            "conv2_block2_2_conv\n",
            "conv2_block2_2_bn\n",
            "conv2_block2_2_relu\n",
            "conv2_block2_3_conv\n",
            "conv2_block2_3_bn\n",
            "conv2_block2_add\n",
            "conv2_block2_out\n",
            "conv2_block3_1_conv\n",
            "conv2_block3_1_bn\n",
            "conv2_block3_1_relu\n",
            "conv2_block3_2_conv\n",
            "conv2_block3_2_bn\n",
            "conv2_block3_2_relu\n",
            "conv2_block3_3_conv\n",
            "conv2_block3_3_bn\n",
            "conv2_block3_add\n",
            "conv2_block3_out\n",
            "conv3_block1_1_conv\n",
            "conv3_block1_1_bn\n",
            "conv3_block1_1_relu\n",
            "conv3_block1_2_conv\n",
            "conv3_block1_2_bn\n",
            "conv3_block1_2_relu\n",
            "conv3_block1_0_conv\n",
            "conv3_block1_3_conv\n",
            "conv3_block1_0_bn\n",
            "conv3_block1_3_bn\n",
            "conv3_block1_add\n",
            "conv3_block1_out\n",
            "conv3_block2_1_conv\n",
            "conv3_block2_1_bn\n",
            "conv3_block2_1_relu\n",
            "conv3_block2_2_conv\n",
            "conv3_block2_2_bn\n",
            "conv3_block2_2_relu\n",
            "conv3_block2_3_conv\n",
            "conv3_block2_3_bn\n",
            "conv3_block2_add\n",
            "conv3_block2_out\n",
            "conv3_block3_1_conv\n",
            "conv3_block3_1_bn\n",
            "conv3_block3_1_relu\n",
            "conv3_block3_2_conv\n",
            "conv3_block3_2_bn\n",
            "conv3_block3_2_relu\n",
            "conv3_block3_3_conv\n",
            "conv3_block3_3_bn\n",
            "conv3_block3_add\n",
            "conv3_block3_out\n",
            "conv3_block4_1_conv\n",
            "conv3_block4_1_bn\n",
            "conv3_block4_1_relu\n",
            "conv3_block4_2_conv\n",
            "conv3_block4_2_bn\n",
            "conv3_block4_2_relu\n",
            "conv3_block4_3_conv\n",
            "conv3_block4_3_bn\n",
            "conv3_block4_add\n",
            "conv3_block4_out\n",
            "conv4_block1_1_conv\n",
            "conv4_block1_1_bn\n",
            "conv4_block1_1_relu\n",
            "conv4_block1_2_conv\n",
            "conv4_block1_2_bn\n",
            "conv4_block1_2_relu\n",
            "conv4_block1_0_conv\n",
            "conv4_block1_3_conv\n",
            "conv4_block1_0_bn\n",
            "conv4_block1_3_bn\n",
            "conv4_block1_add\n",
            "conv4_block1_out\n",
            "conv4_block2_1_conv\n",
            "conv4_block2_1_bn\n",
            "conv4_block2_1_relu\n",
            "conv4_block2_2_conv\n",
            "conv4_block2_2_bn\n",
            "conv4_block2_2_relu\n",
            "conv4_block2_3_conv\n",
            "conv4_block2_3_bn\n",
            "conv4_block2_add\n",
            "conv4_block2_out\n",
            "conv4_block3_1_conv\n",
            "conv4_block3_1_bn\n",
            "conv4_block3_1_relu\n",
            "conv4_block3_2_conv\n",
            "conv4_block3_2_bn\n",
            "conv4_block3_2_relu\n",
            "conv4_block3_3_conv\n",
            "conv4_block3_3_bn\n",
            "conv4_block3_add\n",
            "conv4_block3_out\n",
            "conv4_block4_1_conv\n",
            "conv4_block4_1_bn\n",
            "conv4_block4_1_relu\n",
            "conv4_block4_2_conv\n",
            "conv4_block4_2_bn\n",
            "conv4_block4_2_relu\n",
            "conv4_block4_3_conv\n",
            "conv4_block4_3_bn\n",
            "conv4_block4_add\n",
            "conv4_block4_out\n",
            "conv4_block5_1_conv\n",
            "conv4_block5_1_bn\n",
            "conv4_block5_1_relu\n",
            "conv4_block5_2_conv\n",
            "conv4_block5_2_bn\n",
            "conv4_block5_2_relu\n",
            "conv4_block5_3_conv\n",
            "conv4_block5_3_bn\n",
            "conv4_block5_add\n",
            "conv4_block5_out\n",
            "conv4_block6_1_conv\n",
            "conv4_block6_1_bn\n",
            "conv4_block6_1_relu\n",
            "conv4_block6_2_conv\n",
            "conv4_block6_2_bn\n",
            "conv4_block6_2_relu\n",
            "conv4_block6_3_conv\n",
            "conv4_block6_3_bn\n",
            "conv4_block6_add\n",
            "conv4_block6_out\n",
            "conv5_block1_1_conv\n",
            "conv5_block1_1_bn\n",
            "conv5_block1_1_relu\n",
            "conv5_block1_2_conv\n",
            "conv5_block1_2_bn\n",
            "conv5_block1_2_relu\n",
            "conv5_block1_0_conv\n",
            "conv5_block1_3_conv\n",
            "conv5_block1_0_bn\n",
            "conv5_block1_3_bn\n",
            "conv5_block1_add\n",
            "conv5_block1_out\n",
            "conv5_block2_1_conv\n",
            "conv5_block2_1_bn\n",
            "conv5_block2_1_relu\n",
            "conv5_block2_2_conv\n",
            "conv5_block2_2_bn\n",
            "conv5_block2_2_relu\n",
            "conv5_block2_3_conv\n",
            "conv5_block2_3_bn\n",
            "conv5_block2_add\n",
            "conv5_block2_out\n",
            "conv5_block3_1_conv\n",
            "conv5_block3_1_bn\n",
            "conv5_block3_1_relu\n",
            "conv5_block3_2_conv\n",
            "conv5_block3_2_bn\n",
            "conv5_block3_2_relu\n",
            "conv5_block3_3_conv\n",
            "conv5_block3_3_bn\n",
            "conv5_block3_add\n",
            "conv5_block3_out\n"
          ],
          "name": "stdout"
        }
      ]
    },
    {
      "cell_type": "markdown",
      "metadata": {
        "id": "GyXXfxShOXWa"
      },
      "source": [
        "#Building the model\n",
        "Here we are building the main model by calling the resnet model from keras library into our\n",
        "sequential model.\n",
        "\n",
        "1. first we initilize our model with the sequential api from the keras library.\n",
        "\n",
        "2. then we call the resnet model into our model as the top portion and we also give some\n",
        "arguments as follows\n",
        "\n",
        "3. input_shape=(32,32,3) Here we are mentioning the input shape of the model as per the shape\n",
        "of the image samples present in the dataset.\n",
        "\n",
        "4. include_top=False: When loading a given model, the “include_top” argument can be set to\n",
        "False, in which case the fully-connected output layers of the model used to make predictions\n",
        "is not loaded, allowing a new output layer to be added and trained(in other words we are\n",
        "removing the output layer of the resnet as we are creating out own output layers in this\n",
        "perticular model).\n",
        "\n",
        "5. weights='imagenet' This is to mention the model to get the weights obtained from the training\n",
        "process of imagenet dataset"
      ]
    },
    {
      "cell_type": "markdown",
      "metadata": {
        "id": "LIRyJLkGOyBV"
      },
      "source": [
        "6. a flattern layer is used to convert the present multidimentsion data flowing through the model\n",
        "into a single dimension as in the futher layers of the model we just perform basic\n",
        "classification operations it is easier.\n",
        "7. We are using a dense layer with 128 neurons to reduce the dimenion of the layer as we are\n",
        "progressing in the classification and we are using the relu activation function for a simpler\n",
        "estimation of the calculation\n",
        "8. again we are using a dense layer but with only 10 neurons to futher decrease the dimension\n",
        "and here we are using softmax activation function as it is best suited for multi class\n",
        "classification\n",
        "\n",
        "\n",
        "we are compiling the model and initilizing it with optimizer, loss function and metrics\n",
        "\n",
        "\n",
        "**optimizer** : we are using Adam optimizer with learning rate of 0.0001. It basically says the model at\n",
        "what pace it should update itself while training\n",
        "**loss function**: we are using Cross-entropy as a loss function for a multi-class classification task.\n",
        "**metrics**: we are using accuracy as the metrics for the model. the use of this is to train and update\n",
        "the model based on the accuracy at the end of each epoch."
      ]
    },
    {
      "cell_type": "code",
      "metadata": {
        "id": "0HgbswSlPL7B"
      },
      "source": [
        "model = Sequential()\n",
        "model.add(keras.applications.resnet50.ResNet50(input_shape = (32,32,3), include_top = False, weights = 'imagenet'))\n",
        "\n",
        "model.add(layers.Flatten())\n",
        "model.add(layers.Dense(128, activation='relu'))\n",
        "model.add(layers.Dense(10,activation= 'softmax' ))\n",
        "model.compile(optimizer=keras.optimizers.Adam(lr=0.0001), loss='categorical_crossentropy',metrics = \"accuracy\")"
      ],
      "execution_count": 60,
      "outputs": []
    },
    {
      "cell_type": "markdown",
      "metadata": {
        "id": "kolVm-1_Ptki"
      },
      "source": [
        "we are using model summary to get the basic idea of the layers of the model present and how it is\n",
        "distributed and also how many parameters are present in the model out of which are trainable."
      ]
    },
    {
      "cell_type": "code",
      "metadata": {
        "colab": {
          "base_uri": "https://localhost:8080/"
        },
        "id": "6BTSCNHVPuiH",
        "outputId": "085250f1-9309-49a0-dfb6-3c6385ef7a94"
      },
      "source": [
        "model.summary()\n",
        "\n",
        "Model: \"sequential\""
      ],
      "execution_count": 61,
      "outputs": [
        {
          "output_type": "stream",
          "text": [
            "Model: \"sequential_2\"\n",
            "_________________________________________________________________\n",
            "Layer (type)                 Output Shape              Param #   \n",
            "=================================================================\n",
            "resnet50 (Functional)        (None, 1, 1, 2048)        23587712  \n",
            "_________________________________________________________________\n",
            "flatten_1 (Flatten)          (None, 2048)              0         \n",
            "_________________________________________________________________\n",
            "dense_2 (Dense)              (None, 128)               262272    \n",
            "_________________________________________________________________\n",
            "dense_3 (Dense)              (None, 10)                1290      \n",
            "=================================================================\n",
            "Total params: 23,851,274\n",
            "Trainable params: 23,798,154\n",
            "Non-trainable params: 53,120\n",
            "_________________________________________________________________\n"
          ],
          "name": "stdout"
        }
      ]
    },
    {
      "cell_type": "markdown",
      "metadata": {
        "id": "kkiOkLADQOlz"
      },
      "source": [
        "#Freezing layers\n",
        "Freezing (by setting layer.trainable = False) prevents the weights in a given layer from being updated\n",
        "during training.\n",
        "by doing so we can get the same performace out of the model when it was pretrained"
      ]
    },
    {
      "cell_type": "code",
      "metadata": {
        "id": "YGfrfg5-QR2I"
      },
      "source": [
        "model.trainable=False\n"
      ],
      "execution_count": 62,
      "outputs": []
    },
    {
      "cell_type": "markdown",
      "metadata": {
        "id": "FYbSdVRPQThN"
      },
      "source": [
        "#Training the model\n",
        "Here we are trining the model with the training data and the arguments used are as follows\n",
        "x,y: the training data\n",
        "batch_size: this is to specify the number of sample to go through before updating the gradient each\n",
        "time(no. of samples per gradient update)\n",
        "epochs: it is used to define the number of time the model needs to train on the entine data provided\n",
        "each time\n",
        "validation_split:a part of data is set aside while training and used to evaluate the performance and\n",
        "loss of the training process of the model"
      ]
    },
    {
      "cell_type": "code",
      "metadata": {
        "colab": {
          "base_uri": "https://localhost:8080/"
        },
        "id": "NdFn-nmeQXPT",
        "outputId": "ab418d4c-6464-4140-d4bb-fd7a14f23d5d"
      },
      "source": [
        "history = model.fit(x_train, y_train, batch_size=128, epochs=5, validation_split=0.33)\n"
      ],
      "execution_count": 63,
      "outputs": [
        {
          "output_type": "stream",
          "text": [
            "Epoch 1/5\n",
            "262/262 [==============================] - 26s 81ms/step - loss: 2.0145 - accuracy: 0.3569 - val_loss: 10.2935 - val_accuracy: 0.1002\n",
            "Epoch 2/5\n",
            "262/262 [==============================] - 21s 79ms/step - loss: 0.7678 - accuracy: 0.7401 - val_loss: 3.4294 - val_accuracy: 0.1378\n",
            "Epoch 3/5\n",
            "262/262 [==============================] - 21s 79ms/step - loss: 0.4361 - accuracy: 0.8547 - val_loss: 2.4781 - val_accuracy: 0.3328\n",
            "Epoch 4/5\n",
            "262/262 [==============================] - 20s 78ms/step - loss: 0.2618 - accuracy: 0.9167 - val_loss: 1.1236 - val_accuracy: 0.6588\n",
            "Epoch 5/5\n",
            "262/262 [==============================] - 20s 78ms/step - loss: 0.1633 - accuracy: 0.9470 - val_loss: 0.9922 - val_accuracy: 0.7238\n"
          ],
          "name": "stdout"
        }
      ]
    },
    {
      "cell_type": "markdown",
      "metadata": {
        "id": "TcjTul1tRlWW"
      },
      "source": [
        "# Plot Training performance"
      ]
    },
    {
      "cell_type": "code",
      "metadata": {
        "colab": {
          "base_uri": "https://localhost:8080/",
          "height": 295
        },
        "id": "aVdOWo_YRpKU",
        "outputId": "eab5dac1-aff7-415a-a1e9-89ed010b47b8"
      },
      "source": [
        "history.history\n",
        "pyplot.plot(history.history[ 'accuracy' ])\n",
        "pyplot.plot(history.history[ 'val_accuracy' ])\n",
        "pyplot.title('model accuracy')\n",
        "pyplot.ylabel( 'accuracy' )\n",
        "pyplot.xlabel( 'epoch' )\n",
        "pyplot.legend(['train', 'test'], loc='upper left' )\n",
        "pyplot.show()\n",
        "# summarize history for loss"
      ],
      "execution_count": 64,
      "outputs": [
        {
          "output_type": "display_data",
          "data": {
            "image/png": "[encoded data removed]",
            "text/plain": [
              "<Figure size 432x288 with 1 Axes>"
            ]
          },
          "metadata": {
            "tags": [],
            "needs_background": "light"
          }
        }
      ]
    },
    {
      "cell_type": "code",
      "metadata": {
        "colab": {
          "base_uri": "https://localhost:8080/",
          "height": 295
        },
        "id": "jULIeXS8RzSL",
        "outputId": "b52bd68a-2fb0-4af2-b406-8a743de6c1ca"
      },
      "source": [
        "pyplot.plot(history.history['loss'])\n",
        "pyplot.plot(history.history[ 'val_loss' ])\n",
        "pyplot.title('model loss')\n",
        "pyplot.ylabel('loss' )\n",
        "pyplot.xlabel( 'epoch' )\n",
        "pyplot.legend(['train', 'test'], loc='upper left' )\n",
        "pyplot.show()"
      ],
      "execution_count": 65,
      "outputs": [
        {
          "output_type": "display_data",
          "data": {
            "image/png": "[encoded data removed]",
            "text/plain": [
              "<Figure size 432x288 with 1 Axes>"
            ]
          },
          "metadata": {
            "tags": [],
            "needs_background": "light"
          }
        }
      ]
    },
    {
      "cell_type": "markdown",
      "metadata": {
        "id": "3ER-tAmOR8sO"
      },
      "source": [
        "#Evaluation\n",
        "evaluate method is used to check the trained model how it is performing on unseen data and\n",
        "calculate the metrics of the performance"
      ]
    },
    {
      "cell_type": "code",
      "metadata": {
        "colab": {
          "base_uri": "https://localhost:8080/"
        },
        "id": "yfSK7xYJSBhT",
        "outputId": "29ae49fe-041b-415f-b1b3-51d7e080da75"
      },
      "source": [
        "score = model.evaluate(x_test,y_test)\n"
      ],
      "execution_count": 66,
      "outputs": [
        {
          "output_type": "stream",
          "text": [
            "313/313 [==============================] - 4s 13ms/step - loss: 1.0008 - accuracy: 0.7225\n"
          ],
          "name": "stdout"
        }
      ]
    },
    {
      "cell_type": "code",
      "metadata": {
        "colab": {
          "base_uri": "https://localhost:8080/"
        },
        "id": "kgAu7IUeSjnV",
        "outputId": "42a380f4-9968-4264-a08f-017e9d3aa95b"
      },
      "source": [
        "print('Test loss:', score[0])\n",
        "print('Test accuracy:', score[1])"
      ],
      "execution_count": 67,
      "outputs": [
        {
          "output_type": "stream",
          "text": [
            "Test loss: 1.0008141994476318\n",
            "Test accuracy: 0.7225000262260437\n"
          ],
          "name": "stdout"
        }
      ]
    },
    {
      "cell_type": "markdown",
      "metadata": {
        "id": "BHAdQPLgSmXv"
      },
      "source": [
        "#Prediction\n",
        "this method is used to predict a single sample or in batched and mainly used in the production level\n",
        "or end user level."
      ]
    },
    {
      "cell_type": "code",
      "metadata": {
        "id": "W2apOv2ZSr5h"
      },
      "source": [
        "prediction = model.predict(x_test)\n"
      ],
      "execution_count": 68,
      "outputs": []
    },
    {
      "cell_type": "markdown",
      "metadata": {
        "id": "GuDoHUs1SqOg"
      },
      "source": [
        "# Plot Prediction"
      ]
    },
    {
      "cell_type": "code",
      "metadata": {
        "colab": {
          "base_uri": "https://localhost:8080/",
          "height": 608
        },
        "id": "JsijG6ucSv6t",
        "outputId": "caf3db6f-ec80-4ebe-ee52-60e3c3437d21"
      },
      "source": [
        "print(\"prediction\" )\n",
        "pyplot.figure(figsize=(10, 10))\n",
        "for i in range(9):\n",
        "  ax = pyplot.subplot(3, 3, i + 1)\n",
        "  pyplot.imshow(tf.squeeze(x_test[i]))\n",
        "  pyplot.title(labels[np.argmax(prediction[i])])\n",
        "  pyplot.axis(\"off\")"
      ],
      "execution_count": 69,
      "outputs": [
        {
          "output_type": "stream",
          "text": [
            "prediction\n"
          ],
          "name": "stdout"
        },
        {
          "output_type": "display_data",
          "data": {
            "image/png": "[encoded data removed]",
            "text/plain": [
              "<Figure size 720x720 with 9 Axes>"
            ]
          },
          "metadata": {
            "tags": [],
            "needs_background": "light"
          }
        }
      ]
    },
    {
      "cell_type": "markdown",
      "metadata": {
        "id": "VedOUau6TAhF"
      },
      "source": [
        "Batch Normalization\n",
        "s a method used to make artificial neural networks faster and more stable through normalization of\n",
        "the layers’ inputs by re-centering and re-scaling.\n",
        "In a neural network, batch normalization is achieved through a normalization step that fixes the\n",
        "means and variances of each layer's inputs. Ideally, the normalization would be conducted over the\n",
        "entire training set, but to use this step jointly with stochastic optimization methods, it is impractical\n",
        "to use the global information. Thus, normalization is restrained to each mini-batch in the training\n",
        "process.\n",
        "Batch normalization applies a transformation that maintains the mean output close to 0 and the\n",
        "output standard deviation close to 1."
      ]
    },
    {
      "cell_type": "markdown",
      "metadata": {
        "id": "GO_8UJBmTBSS"
      },
      "source": [
        "#CNN VS ANN\n",
        "![CNN vs ANN.PNG](data:image/png;base64,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)"
      ]
    }
  ]
}